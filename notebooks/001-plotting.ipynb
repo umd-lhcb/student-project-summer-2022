{
 "cells": [
  {
   "cell_type": "code",
   "execution_count": 2,
   "id": "ef573b05-521c-4e4c-b8cd-66ef21a8640d",
   "metadata": {},
   "outputs": [],
   "source": [
    "import uproot\n",
    "import matplotlib as plt\n",
    "import numpy as np"
   ]
  },
  {
   "cell_type": "markdown",
   "id": "71dac8e2-132a-46f0-8725-df051b8b75f8",
   "metadata": {},
   "source": [
    "## Scattering plot"
   ]
  },
  {
   "cell_type": "code",
   "execution_count": null,
   "id": "a040cbd0-2f3c-4fc5-9290-f6616f07ea27",
   "metadata": {},
   "outputs": [],
   "source": []
  }
 ],
 "metadata": {
  "kernelspec": {
   "display_name": "Python3 - Python-env",
   "language": "python",
   "name": "ipython_python-env"
  },
  "language_info": {
   "codemirror_mode": {
    "name": "ipython",
    "version": 3
   },
   "file_extension": ".py",
   "mimetype": "text/x-python",
   "name": "python",
   "nbconvert_exporter": "python",
   "pygments_lexer": "ipython3",
   "version": "3.9.13"
  }
 },
 "nbformat": 4,
 "nbformat_minor": 5
}
